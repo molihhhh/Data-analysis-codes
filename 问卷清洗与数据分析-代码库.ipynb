{
 "cells": [
  {
   "cell_type": "code",
   "execution_count": 1,
   "id": "prime-albany",
   "metadata": {
    "cell_id": 1
   },
   "outputs": [],
   "source": [
    "import pandas as pd\n",
    "from IPython.display import display\n",
    "pd.options.display.max_columns = None\n"
   ]
  },
  {
   "cell_type": "code",
   "execution_count": 2,
   "id": "cheap-argentina",
   "metadata": {
    "cell_id": 2
   },
   "outputs": [
    {
     "name": "stderr",
     "output_type": "stream",
     "text": [
      "/opt/conda/lib/python3.7/site-packages/IPython/core/interactiveshell.py:3147: DtypeWarning: Columns (46,51,65,78,83,97,136,148,160,179,190,227,238,256,265,278,302,325) have mixed types.Specify dtype option on import or set low_memory=False.\n",
      "  interactivity=interactivity, compiler=compiler, result=result)\n"
     ]
    }
   ],
   "source": [
    "df01 = pd.read_csv('data070101.csv')"
   ]
  },
  {
   "cell_type": "code",
   "execution_count": 8,
   "id": "medical-region",
   "metadata": {
    "cell_id": 25
   },
   "outputs": [],
   "source": [
    "#开始洗掉上述人群：df_stdt_qualified\n",
    "\n",
    "df_qualified_non_tab = df_stdt_non_tablet_user.loc[df_stdt_non_tablet_user['作答时间'] >= 90]\n",
    "df_qualified_tab = df_stdt_tablet_user.loc[df_stdt_tablet_user['作答时间'] >= 120]\n",
    "\n",
    "df_stdt_qualified = pd.concat([df_qualified_non_tab, df_qualified_tab])"
   ]
  },
  {
   "cell_type": "code",
   "execution_count": 9,
   "id": "funky-evolution",
   "metadata": {
    "cell_id": 31
   },
   "outputs": [
    {
     "data": {
      "text/plain": [
       "4828"
      ]
     },
     "execution_count": 9,
     "metadata": {},
     "output_type": "execute_result"
    }
   ],
   "source": [
    "# 全体：H7 矩阵题 全选同一个选项的直接删除：df_matrix\n",
    "\n",
    "\n",
    "df_matrix = df_stdt_qualified\n",
    "counter1 = 0\n",
    "counter2 = 0\n",
    "\n",
    "\n",
    "for i in range(len(df_matrix)):\n",
    "    if counter1 + counter2 < len(df_matrix):\n",
    "        a = df_matrix.iloc[i , 342]\n",
    "        b = df_matrix.iloc[i , 343]\n",
    "        c = df_matrix.iloc[i , 344]\n",
    "        d = df_matrix.iloc[i , 345]\n",
    "        e = df_matrix.iloc[i , 346]\n",
    "        f = df_matrix.iloc[i , 347]\n",
    "        g = df_matrix.iloc[i , 348]\n",
    "\n",
    "        answer_list = [a,b,c,d,e,f,g]\n",
    "        answer_set = set(answer_list)\n",
    "\n",
    "        if len(answer_set) == 1:\n",
    "            df_matrix = df_matrix.drop(df_matrix.index[i], inplace = False)\n",
    "            counter2 += 1\n",
    "            #print (str(counter2) + \"DELETED\")\n",
    "        counter1 += 1\n",
    "        #print(str(counter1) + \"PROGRESS\")\n",
    "    else:\n",
    "        pass\n",
    "        #print('done')\n",
    "            \n",
    "len(df_matrix)\n",
    "\n",
    "# output是去除后的样本量\n"
   ]
  },
  {
   "cell_type": "code",
   "execution_count": 10,
   "id": "impressive-appearance",
   "metadata": {
    "cell_id": 43
   },
   "outputs": [
    {
     "name": "stderr",
     "output_type": "stream",
     "text": [
      "/opt/conda/lib/python3.7/site-packages/ipykernel_launcher.py:5: SettingWithCopyWarning: \n",
      "A value is trying to be set on a copy of a slice from a DataFrame.\n",
      "Try using .loc[row_indexer,col_indexer] = value instead\n",
      "\n",
      "See the caveats in the documentation: https://pandas.pydata.org/pandas-docs/stable/user_guide/indexing.html#returning-a-view-versus-a-copy\n",
      "  \"\"\"\n"
     ]
    }
   ],
   "source": [
    "# 多孩用户：A1选择的孩子个数和A3-2选的年级个数不同:fk后缀可删\n",
    "\n",
    "df_multi = df_matrix.loc[(df_matrix['1.你有孩子吗？（单选）'] == 4)\n",
    "                         |(df_matrix['1.你有孩子吗？（单选）'] == 5)]\n",
    "df_multi['孩子数确认'] = df_multi.iloc[:, 12:22].sum(axis=1)\n",
    "\n",
    "df_multi_2_fk = df_multi.loc[(df_multi['孩子数确认'] != 2) \n",
    "                           & (df_multi['1.你有孩子吗？（单选）'] == 4)]\n",
    "\n",
    "df_multi_3_fk = df_multi.loc[(df_multi['孩子数确认'] <= 2) \n",
    "                           & (df_multi['1.你有孩子吗？（单选）'] == 5)]\n",
    "\n",
    "\n"
   ]
  },
  {
   "cell_type": "code",
   "execution_count": 35,
   "id": "polyphonic-commons",
   "metadata": {
    "cell_id": 30
   },
   "outputs": [],
   "source": [
    "#核心工具！——跑频次和百分比\n",
    "\n",
    "\n",
    "def basic_analysis(dataframe, starting_q_col, ending_q_col, counter):\n",
    "    collector = pd.DataFrame()\n",
    "    for idx_columns in range(starting_q_col,ending_q_col):\n",
    "        df2 = dataframe.groupby([dataframe.columns[idx_columns]]).agg({counter:'count'})\n",
    "        df3 = dataframe[dataframe.columns[idx_columns]].describe().to_frame()\n",
    "        df4 = (df2 / df3.iloc[0].values[0])\n",
    "        df5 = pd.merge(df2, df4, how = 'inner', on = dataframe.columns[idx_columns])\n",
    "        df6 = df5.append(df5.sum().rename('Total'))\n",
    "        df6['问题'] = df6.index.name\n",
    "        display(df6)\n",
    "        collector = pd.concat([collector, df6])\n",
    "    collector.to_excel('output22.xlsx')"
   ]
  }
 ],
 "metadata": {
  "kernelspec": {
   "display_name": "Python 3",
   "language": "python",
   "name": "python3"
  },
  "language_info": {
   "codemirror_mode": {
    "name": "ipython",
    "version": 3
   },
   "file_extension": ".py",
   "mimetype": "text/x-python",
   "name": "python",
   "nbconvert_exporter": "python",
   "pygments_lexer": "ipython3",
   "version": "3.7.9"
  },
  "max_cell_id": 70
 },
 "nbformat": 4,
 "nbformat_minor": 5
}
