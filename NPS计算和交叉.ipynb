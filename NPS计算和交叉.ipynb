{
 "cells": [
  {
   "cell_type": "code",
   "execution_count": null,
   "id": "figured-reader",
   "metadata": {
    "cell_id": 1
   },
   "outputs": [],
   "source": [
    "import pandas as pd\n",
    "import numpy as np\n",
    "import pandas as pd\n",
    "from IPython.display import display\n",
    "pd.options.display.max_columns = None"
   ]
  },
  {
   "cell_type": "code",
   "execution_count": null,
   "id": "appropriate-independence",
   "metadata": {
    "cell_id": 2
   },
   "outputs": [],
   "source": [
    "df_merge = pd.merge(df_info, df_survey, on = 'sn', how = 'inner')"
   ]
  },
  {
   "cell_type": "code",
   "execution_count": null,
   "id": "intellectual-equivalent",
   "metadata": {
    "cell_id": 3
   },
   "outputs": [],
   "source": [
    "#nps calculation\n",
    "\n",
    "def nps_cal(df):\n",
    "    detractor_list = [0,1,2,3,4,5,6]\n",
    "    passive_list = [7,8]\n",
    "    promoter_list = [9,10]\n",
    "\n",
    "\n",
    "    detractors = df[df['nps'].isin(detractor_list)]\n",
    "    passives = df[df['nps'].isin(passive_list)]\n",
    "    promoters = df[df['nps'].isin(promoter_list)]\n",
    "\n",
    "    detractors_percent_1 = detractors['nps'].count() / df['nps'].count() *100\n",
    "    detractors_percent = str(np.round(detractors_percent_1,2)) + \"%\"\n",
    "\n",
    "    passives_percent_1 = passives['nps'].count() / df['nps'].count() *100\n",
    "    passives_percent = str(np.round(passives_percent_1,2)) + \"%\"\n",
    "\n",
    "    promoters_percent_1 = promoters['nps'].count() / df['nps'].count() *100\n",
    "    promoters_percent = str(np.round(promoters_percent_1,2)) + \"%\"\n",
    "\n",
    "    nps_1 = promoters_percent_1 - detractors_percent_1\n",
    "    nps = str(np.round(nps_1,2)) + '%'\n",
    "\n",
    "    output = {'NPS': nps, '贬损者': detractors_percent, '中立者':passives_percent, '推荐者':promoters_percent}\n",
    "    table = pd.DataFrame.from_dict(output,orient='index')\n",
    "    print(table)\n",
    "    return nps"
   ]
  },
  {
   "cell_type": "code",
   "execution_count": null,
   "id": "numeric-coordination",
   "metadata": {
    "cell_id": 4
   },
   "outputs": [],
   "source": [
    "#增加城市线级变量\n",
    "\n",
    "df_trial.loc[df_trial['city_level_resident']=='一线', '城市线级']='一线'\n",
    "df_trial.loc[df_trial['city_level_resident']=='新一线', '城市线级']='新一线'\n",
    "df_trial.loc[df_trial['city_level_resident']=='二线', '城市线级']='二线'\n",
    "df_trial.loc[df_trial['city_level_resident']=='三线', '城市线级']='三线'\n",
    "df_trial.loc[df_trial['city_level_resident']=='四线', '城市线级']='四线及以下'\n",
    "df_trial.loc[df_trial['city_level_resident']=='五线', '城市线级']='四线及以下'\n",
    "df_trial.loc[df_trial['city_level_resident']=='六线及以下', '城市线级']='四线及以下'\n",
    "df_trial.loc[df_trial['city_level_resident']=='(null)', '城市线级']='其它'"
   ]
  },
  {
   "cell_type": "code",
   "execution_count": null,
   "id": "naval-compromise",
   "metadata": {
    "cell_id": 5
   },
   "outputs": [],
   "source": [
    "#增加年级2变量：合并初中\n",
    "df_trial.loc[df_trial['年级']=='一年级', '年级2']='一年级'\n",
    "df_trial.loc[df_trial['年级']=='二年级', '年级2']='二年级'\n",
    "df_trial.loc[df_trial['年级']=='三年级', '年级2']='三年级'\n",
    "df_trial.loc[df_trial['年级']=='四年级', '年级2']='四年级'\n",
    "df_trial.loc[df_trial['年级']=='五年级', '年级2']='五年级'\n",
    "df_trial.loc[df_trial['年级']=='六年级', '年级2']='六年级'\n",
    "df_trial.loc[df_trial['年级']=='七年级', '年级2']='初中'\n",
    "df_trial.loc[df_trial['年级']=='八年级', '年级2']='初中'\n",
    "df_trial.loc[df_trial['年级']=='九年级', '年级2']='初中'\n",
    "df_trial.loc[df_trial['年级']=='学前', '年级2']='学前'\n",
    "df_trial.loc[df_trial['年级']=='其它', '年级2']='其它'"
   ]
  },
  {
   "cell_type": "code",
   "execution_count": null,
   "id": "rubber-thunder",
   "metadata": {
    "cell_id": 6
   },
   "outputs": [],
   "source": [
    "for i in 年级2:\n",
    "    df_1 = df_full[df_full['年级2']==i]\n",
    "    nps_cal(df_1)\n",
    "    print(i + \"的整体nps是上方\")"
   ]
  }
 ],
 "metadata": {
  "kernelspec": {
   "display_name": "Python 3",
   "language": "python",
   "name": "python3"
  },
  "language_info": {
   "codemirror_mode": {
    "name": "ipython",
    "version": 3
   },
   "file_extension": ".py",
   "mimetype": "text/x-python",
   "name": "python",
   "nbconvert_exporter": "python",
   "pygments_lexer": "ipython3",
   "version": "3.7.9"
  },
  "max_cell_id": 7
 },
 "nbformat": 4,
 "nbformat_minor": 5
}
