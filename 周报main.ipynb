{
 "cells": [
  {
   "cell_type": "code",
   "execution_count": null,
   "metadata": {},
   "outputs": [],
   "source": []
  },
  {
   "cell_type": "code",
   "execution_count": 1,
   "metadata": {},
   "outputs": [],
   "source": [
    "import pandas as pd\n",
    "import numpy\n",
    "import copy\n",
    "import os\n",
    "\n",
    "#PART 1 正在发行的基金\n",
    "\n",
    "df = pd.read_csv(r'正在发行的基金.csv')\n",
    "\n",
    "df = df[[\"基金简称\", \"投资类型\", \"募集起始日\", \"计划募集截止日\", \"基金托管人\"]]\n",
    "\n",
    "df = df.dropna()\n"
   ]
  },
  {
   "cell_type": "code",
   "execution_count": 2,
   "metadata": {},
   "outputs": [
    {
     "data": {
      "text/html": [
       "<div>\n",
       "<style scoped>\n",
       "    .dataframe tbody tr th:only-of-type {\n",
       "        vertical-align: middle;\n",
       "    }\n",
       "\n",
       "    .dataframe tbody tr th {\n",
       "        vertical-align: top;\n",
       "    }\n",
       "\n",
       "    .dataframe thead th {\n",
       "        text-align: right;\n",
       "    }\n",
       "</style>\n",
       "<table border=\"1\" class=\"dataframe\">\n",
       "  <thead>\n",
       "    <tr style=\"text-align: right;\">\n",
       "      <th></th>\n",
       "      <th>基金简称</th>\n",
       "    </tr>\n",
       "    <tr>\n",
       "      <th>基金托管人</th>\n",
       "      <th></th>\n",
       "    </tr>\n",
       "  </thead>\n",
       "  <tbody>\n",
       "    <tr>\n",
       "      <th>交通银行股份有限公司</th>\n",
       "      <td>20</td>\n",
       "    </tr>\n",
       "    <tr>\n",
       "      <th>兴业银行股份有限公司</th>\n",
       "      <td>19</td>\n",
       "    </tr>\n",
       "    <tr>\n",
       "      <th>中国银行股份有限公司</th>\n",
       "      <td>17</td>\n",
       "    </tr>\n",
       "  </tbody>\n",
       "</table>\n",
       "</div>"
      ],
      "text/plain": [
       "            基金简称\n",
       "基金托管人           \n",
       "交通银行股份有限公司    20\n",
       "兴业银行股份有限公司    19\n",
       "中国银行股份有限公司    17"
      ]
     },
     "execution_count": 2,
     "metadata": {},
     "output_type": "execute_result"
    }
   ],
   "source": [
    "# 数据透视表：托管人\n",
    "pivot_custodian = df.pivot_table(index=['基金托管人'], values=['基金简称'], aggfunc='count')\n",
    "\n",
    "sort_by_count_desc = pivot_custodian.sort_values(by = '基金简称',ascending=False)\n",
    "\n",
    "pivot_custodian = sort_by_count_desc\n",
    "\n",
    "pivot_custodian[:3]"
   ]
  },
  {
   "cell_type": "code",
   "execution_count": 3,
   "metadata": {},
   "outputs": [],
   "source": [
    "def 文字串儿1():\n",
    "    for i in range(len(pivot_custodian)):\n",
    "        托管人 = pivot_custodian.index[i][:-6]\n",
    "        数量 = pivot_custodian.iloc[i][0]\n",
    "        print (str(托管人)+str(数量)+\"只\",end=\"、\")"
   ]
  },
  {
   "cell_type": "code",
   "execution_count": 4,
   "metadata": {},
   "outputs": [
    {
     "data": {
      "text/html": [
       "<div>\n",
       "<style scoped>\n",
       "    .dataframe tbody tr th:only-of-type {\n",
       "        vertical-align: middle;\n",
       "    }\n",
       "\n",
       "    .dataframe tbody tr th {\n",
       "        vertical-align: top;\n",
       "    }\n",
       "\n",
       "    .dataframe thead th {\n",
       "        text-align: right;\n",
       "    }\n",
       "</style>\n",
       "<table border=\"1\" class=\"dataframe\">\n",
       "  <thead>\n",
       "    <tr style=\"text-align: right;\">\n",
       "      <th></th>\n",
       "      <th>基金简称</th>\n",
       "    </tr>\n",
       "    <tr>\n",
       "      <th>投资类型</th>\n",
       "      <th></th>\n",
       "    </tr>\n",
       "  </thead>\n",
       "  <tbody>\n",
       "    <tr>\n",
       "      <th>偏股混合型基金</th>\n",
       "      <td>53</td>\n",
       "    </tr>\n",
       "    <tr>\n",
       "      <th>中长期纯债型基金</th>\n",
       "      <td>36</td>\n",
       "    </tr>\n",
       "    <tr>\n",
       "      <th>被动指数型债券基金</th>\n",
       "      <td>22</td>\n",
       "    </tr>\n",
       "  </tbody>\n",
       "</table>\n",
       "</div>"
      ],
      "text/plain": [
       "           基金简称\n",
       "投资类型           \n",
       "偏股混合型基金      53\n",
       "中长期纯债型基金     36\n",
       "被动指数型债券基金    22"
      ]
     },
     "execution_count": 4,
     "metadata": {},
     "output_type": "execute_result"
    }
   ],
   "source": [
    "# 数据透视表：投资类型\n",
    "pivot_type = df.pivot_table(index=['投资类型'], values=['基金简称'], aggfunc='count')\n",
    "\n",
    "sort_by_count_desc = pivot_type.sort_values(by = '基金简称',ascending=False)\n",
    "\n",
    "pivot_type = sort_by_count_desc\n",
    "\n",
    "pivot_type[:3]"
   ]
  },
  {
   "cell_type": "code",
   "execution_count": 5,
   "metadata": {},
   "outputs": [],
   "source": [
    "def 文字串儿2():\n",
    "    for i in range(len(pivot_type)):\n",
    "        托管人 = pivot_type.index[i]\n",
    "        数量 = pivot_type.iloc[i][0]\n",
    "        print (str(托管人)+str(数量)+\"只\",end=\"、\")"
   ]
  },
  {
   "cell_type": "code",
   "execution_count": 6,
   "metadata": {},
   "outputs": [
    {
     "name": "stdout",
     "output_type": "stream",
     "text": [
      "1）目前在发的 172 只基金中，托管情况如下：交通银行20只、兴业银行19只、中国银行17只、招商银行14只、上海浦东发展银行14只、中国邮政储蓄银行12只、中国工商银行12只、中国建设银行11只、中国农业银行10只、中国民生银行9只、中国光大银行5只、浙商银行5只、中信银行4只、上海银行3只、华夏银行3只、中国银河证券2只、华泰证券2只、国信证券2只、广发证券2只、招商证券2只、中信证券2只、广州农村商业银行1只、杭州银行1只、\n",
      "2）目前在发的 172 只基金中，偏股混合型基金53只、中长期纯债型基金36只、被动指数型债券基金22只、偏债混合型基金15只、混合债券型二级基金10只、普通股票型基金9只、灵活配置型基金9只、被动指数型基金7只、增强指数型基金4只、平衡混合型基金4只、商品型基金2只、国际(QDII)股票型基金1只、"
     ]
    }
   ],
   "source": [
    "本月数量 = len(df)\n",
    "\n",
    "print(\"1）目前在发的\", 本月数量, \"只基金中，托管情况如下：\", end=\"\")\n",
    "文字串儿1()\n",
    "\n",
    "print(\"\")\n",
    "\n",
    "print(\"2）目前在发的\", 本月数量, \"只基金中，\", end=\"\")\n",
    "文字串儿2()"
   ]
  },
  {
   "cell_type": "code",
   "execution_count": 7,
   "metadata": {},
   "outputs": [],
   "source": [
    "for i in range(len(df[\"基金托管人\"])):\n",
    "    c = df[\"基金托管人\"].iloc[i][:-6]\n",
    "    df[\"基金托管人\"].iloc[i] = c"
   ]
  },
  {
   "cell_type": "code",
   "execution_count": 8,
   "metadata": {},
   "outputs": [],
   "source": [
    "df.index += 1\n",
    "df.to_excel('正在发行的基金-cleaned.xlsx') "
   ]
  },
  {
   "cell_type": "code",
   "execution_count": 9,
   "metadata": {},
   "outputs": [],
   "source": [
    "#PART 2 本周新成立基金情况\n",
    "\n",
    "#df_original = pd.read_csv (r'基金发行阶段统计731.csv')\n",
    "df = pd.read_csv (r'基金发行阶段统计.csv')\n",
    "\n",
    "#df = copy.copy(df_original)\n",
    "\n",
    "#df.drop([len(df)-1],inplace=True)\n",
    "#df.drop([len(df)-1],inplace=True)\n",
    "\n",
    "df = df[[\"名称\", \"基金托管人\", \"发行份额(亿份)\", \"认购天数\", \"基金成立日\", \"投资类型\"]]\n",
    "\n",
    "#清掉有空白的行，也包含了c\n",
    "\n",
    "df = df.dropna()\n",
    "\n",
    "df = df.sort_values(by = '发行份额(亿份)',ascending=False)\n",
    "\n",
    "        "
   ]
  },
  {
   "cell_type": "code",
   "execution_count": 10,
   "metadata": {},
   "outputs": [
    {
     "name": "stderr",
     "output_type": "stream",
     "text": [
      "/Library/Frameworks/Python.framework/Versions/3.8/lib/python3.8/site-packages/pandas/core/indexing.py:670: SettingWithCopyWarning: \n",
      "A value is trying to be set on a copy of a slice from a DataFrame\n",
      "\n",
      "See the caveats in the documentation: https://pandas.pydata.org/pandas-docs/stable/user_guide/indexing.html#returning-a-view-versus-a-copy\n",
      "  self._setitem_with_indexer(indexer, value)\n"
     ]
    }
   ],
   "source": [
    "\n",
    "\n",
    "#把A改成AC\n",
    "\n",
    "for i in range(len(df[[\"名称\"]])):\n",
    "    #if \"C\" == [df[\"名称\"].iloc[i]][-1]:        \n",
    "        #df = df[df.index != i]\n",
    "    if \"A\" == df[\"名称\"].iloc[i][-1]:\n",
    "        df[\"名称\"].iloc[i] = df[\"名称\"].iloc[i] + \"C\""
   ]
  },
  {
   "cell_type": "code",
   "execution_count": 11,
   "metadata": {},
   "outputs": [
    {
     "name": "stdout",
     "output_type": "stream",
     "text": [
      "    August 2020\n",
      "Su Mo Tu We Th Fr Sa\n",
      "                   1\n",
      " 2  3  4  5  6  7  8\n",
      " 9 10 11 12 13 14 15\n",
      "16 17 18 19 20 21 22\n",
      "23 24 25 26 27 28 29\n",
      "30 31\n",
      "   September 2020\n",
      "Su Mo Tu We Th Fr Sa\n",
      "       1  2  3  4  5\n",
      " 6  7  8  9 10 11 12\n",
      "13 14 15 16 17 18 19\n",
      "20 21 22 23 24 25 26\n",
      "27 28 29 30\n",
      "    October 2020\n",
      "Su Mo Tu We Th Fr Sa\n",
      "             1  2  3\n",
      " 4  5  6  7  8  9 10\n",
      "11 12 13 14 15 16 17\n",
      "18 19 20 21 22 23 24\n",
      "25 26 27 28 29 30 31\n"
     ]
    }
   ],
   "source": [
    "#进行时间筛选\n",
    "\n",
    "import datetime\n",
    "import calendar\n",
    "\n",
    "def last_month():\n",
    "    if today.month == 1:\n",
    "        return 12\n",
    "    else:\n",
    "        r = today.month - 1\n",
    "        return r\n",
    "    \n",
    "def next_month():\n",
    "    if today.month == 12:\n",
    "        return 1\n",
    "    else:\n",
    "        r = today.month + 1\n",
    "        return r\n",
    "    \n",
    "today = datetime.date.today()\n",
    "\n",
    "\n",
    "c = calendar.TextCalendar(calendar.SUNDAY)\n",
    "c.prmonth(today.year, last_month())\n",
    "c.prmonth(today.year, today.month)\n",
    "c.prmonth(today.year, next_month())\n"
   ]
  },
  {
   "cell_type": "code",
   "execution_count": 12,
   "metadata": {},
   "outputs": [],
   "source": [
    "one_day = datetime.timedelta(days=1)\n",
    "\n",
    "start_date = datetime.date(2020, 9, 4) #～～～～～～～～～～～～～按此格式输入起始日期～～～～～～～～～～～～～～～～～～～～～\n",
    "\n",
    "end_date = start_date + one_day*6\n",
    "\n",
    "list_date = [str(start_date)]\n",
    "\n",
    "for i in range(6):\n",
    "    dates = start_date + one_day\n",
    "    start_date += one_day\n",
    "    list_date += [str(dates)]"
   ]
  },
  {
   "cell_type": "code",
   "execution_count": 13,
   "metadata": {},
   "outputs": [],
   "source": [
    "for i in df[\"基金成立日\"]:\n",
    "    if i not in list_date:\n",
    "        df = df[df.基金成立日 != i]\n",
    "\n",
    "本月数量 = len(df)\n"
   ]
  },
  {
   "cell_type": "code",
   "execution_count": 14,
   "metadata": {},
   "outputs": [],
   "source": [
    "# 数据透视表：托管人\n",
    "pivot_custodian = df.pivot_table(index=['基金托管人'], values=['名称'], aggfunc='count')\n",
    "\n",
    "sort_by_count_desc = pivot_custodian.sort_values(by = '名称',ascending=False)\n",
    "\n",
    "pivot_custodian = sort_by_count_desc\n",
    "\n",
    "pivot_custodian[:3]\n",
    "\n",
    "def 文字串儿1():\n",
    "    for i in range(len(pivot_custodian)):\n",
    "        托管人 = pivot_custodian.index[i][:-6]\n",
    "        数量 = pivot_custodian.iloc[i][0]\n",
    "        print (str(托管人)+str(数量)+\"只\",end=\"、\")"
   ]
  },
  {
   "cell_type": "code",
   "execution_count": 15,
   "metadata": {},
   "outputs": [],
   "source": [
    "# 数据透视表：投资类型\n",
    "pivot_type = df.pivot_table(index=['投资类型'], values=['名称'], aggfunc='count')\n",
    "\n",
    "sort_by_count_desc = pivot_type.sort_values(by = '名称',ascending=False)\n",
    "\n",
    "pivot_type = sort_by_count_desc\n",
    "\n",
    "pivot_type[:3]\n",
    "\n",
    "\n",
    "def 文字串儿2():\n",
    "    for i in range(len(pivot_type)):\n",
    "        托管人 = pivot_type.index[i]\n",
    "        数量 = pivot_type.iloc[i][0]\n",
    "        print (str(托管人)+str(数量)+\"只\",end=\"、\")"
   ]
  },
  {
   "cell_type": "code",
   "execution_count": 16,
   "metadata": {},
   "outputs": [
    {
     "name": "stdout",
     "output_type": "stream",
     "text": [
      "1）目前在发的 30 只基金中，托管情况如下：招商银行5只、中国建设银行5只、中国银行3只、中国工商银行2只、上海浦东发展银行2只、中国农业银行1只、中国光大银行1只、中国民生银行1只、中国邮政储蓄银行1只、上海银行1只、交通银行1只、兴业证券1只、兴业银行1只、南京银行1只、平安银行1只、徽商银行1只、中信银行1只、杭州银行1只、\n",
      "2）目前在发的 30 只基金中， 托管规模最大的是 汇添富稳健添盈一年 ，发行份额 140.0342778499 亿份，为 偏债混合型基金 ， 中国光大银行 。\n",
      "3）目前在发的 30 只基金中，中长期纯债型基金8只、偏股混合型基金7只、偏债混合型基金5只、平衡混合型基金3只、普通股票型基金3只、灵活配置型基金3只、被动指数型债券基金1只、"
     ]
    }
   ],
   "source": [
    "本月数量 = len(df)\n",
    "\n",
    "print(\"1）目前在发的\", 本月数量, \"只基金中，托管情况如下：\", end=\"\")\n",
    "文字串儿1()\n",
    "\n",
    "print(\"\")\n",
    "\n",
    "print(\"2）目前在发的\", 本月数量, \"只基金中，\", \"托管规模最大的是\", \n",
    "      df.iloc[0,0], \"，发行份额\", df.iloc[0,2], \"亿份，为\", df.iloc[0,-1], \"，\", df.iloc[0,1][:-6], \"。\")\n",
    "\n",
    "print(\"3）目前在发的\", 本月数量, \"只基金中，\", end=\"\")\n",
    "文字串儿2()"
   ]
  },
  {
   "cell_type": "code",
   "execution_count": 17,
   "metadata": {},
   "outputs": [],
   "source": [
    "for i in range(len(df[\"基金托管人\"])):\n",
    "    c = df[\"基金托管人\"].iloc[i][:-6]\n",
    "    df[\"基金托管人\"].iloc[i] = c\n",
    "    \n",
    "df = df.reset_index(drop=True)\n",
    "df.index += 1\n",
    "df\n",
    "df.to_excel('本周新成立基金情况-cleaned.xlsx') "
   ]
  },
  {
   "cell_type": "code",
   "execution_count": null,
   "metadata": {},
   "outputs": [],
   "source": []
  },
  {
   "cell_type": "code",
   "execution_count": null,
   "metadata": {},
   "outputs": [],
   "source": []
  },
  {
   "cell_type": "code",
   "execution_count": null,
   "metadata": {},
   "outputs": [],
   "source": []
  },
  {
   "cell_type": "code",
   "execution_count": null,
   "metadata": {},
   "outputs": [],
   "source": []
  },
  {
   "cell_type": "code",
   "execution_count": null,
   "metadata": {
    "scrolled": true
   },
   "outputs": [],
   "source": []
  }
 ],
 "metadata": {
  "kernelspec": {
   "display_name": "Python 3",
   "language": "python",
   "name": "python3"
  },
  "language_info": {
   "codemirror_mode": {
    "name": "ipython",
    "version": 3
   },
   "file_extension": ".py",
   "mimetype": "text/x-python",
   "name": "python",
   "nbconvert_exporter": "python",
   "pygments_lexer": "ipython3",
   "version": "3.8.1"
  }
 },
 "nbformat": 4,
 "nbformat_minor": 4
}
