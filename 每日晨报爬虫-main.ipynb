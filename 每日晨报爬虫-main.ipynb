{
 "cells": [
  {
   "cell_type": "code",
   "execution_count": 1,
   "metadata": {},
   "outputs": [],
   "source": [
    "import requests # for downloading the HTML\n",
    "from bs4 import BeautifulSoup # for parsing and searching through the HTML\n",
    "import os"
   ]
  },
  {
   "cell_type": "code",
   "execution_count": 2,
   "metadata": {},
   "outputs": [],
   "source": [
    "# STAGE 1: extract all the links on the page\n",
    "url = \"http://funds.hexun.com/\"\n",
    "resp = requests.get(url)\n",
    "resp.raise_for_status()\n",
    "resp.encoding = 'GBK'\n",
    "page = BeautifulSoup(resp.text, \"html.parser\")"
   ]
  },
  {
   "cell_type": "code",
   "execution_count": 3,
   "metadata": {
    "scrolled": true
   },
   "outputs": [],
   "source": [
    "tt1 = page.find_all(\"a\")\n",
    "for i in range(len(tt1)):\n",
    "    if \"最新资讯\" in tt1[i]:\n",
    "        #print(i)\n",
    "        start_point = i + 13 \n",
    "        \n",
    "tt1[start_point]\n",
    "\n",
    "newslist = []\n",
    "linkdict = {}\n",
    "\n",
    "\n",
    "for i in range(5):\n",
    "    link = tt1[start_point][\"href\"]\n",
    "    #print (tt1[start_point][\"href\"])\n",
    "    newslist += tt1[start_point]\n",
    "    news = tt1[start_point].get_text()\n",
    "    linkdict[news] = link\n",
    "    start_point += 1 "
   ]
  },
  {
   "cell_type": "code",
   "execution_count": 4,
   "metadata": {
    "scrolled": true
   },
   "outputs": [
    {
     "name": "stdout",
     "output_type": "stream",
     "text": [
      "各位领导、同事：上午好。以下是今日读报内容，请参阅。 \n",
      "标题： 代销基金业务 “增援”银行营收\n",
      "概要： 今年以来银行代销基金业务火爆，《证券日报》记者从已披露的A股36家上市银行半年报中发现，大部分银行的手续费及佣金净收入都实现了不同程度的增长。并且多家银行均提及代理类手续费收入增长主要是由于代销基金业务的增长。\n",
      "链接： http://funds.hexun.com/2020-09-04/202003009.html\n",
      "----------------------\n",
      "标题： 基金尾佣异象：中小公募再难花钱买繁荣\n",
      "概要： 与此同时，基金公司支付给销售机构的客户维护费，即业内俗称的尾随佣金，也水涨船高，上半年以47%的增速远远超越了管理费33%的增速。\n",
      "链接： http://funds.hexun.com/2020-09-04/202002827.html\n",
      "----------------------\n",
      "标题： 热搜基金非理性追逐 爆款基金的投资陷阱？\n",
      "概要： “有哪些年轻人千万不能碰的东西？”\n",
      "链接： http://funds.hexun.com/2020-09-04/202002816.html\n",
      "----------------------\n",
      "标题： 新基金发行破2万亿 明星私募组团调研\n",
      "概要： 8月A股已经收官，最后两个交易日，沪指一改前期盘整格局，一度站上3400点。随着半年报披露完毕，悬在投资者心中的石头落地。9月1日，沪指上涨0.44%，站上3410.61点，实现了开门红。A股是否开启“金九银十”行情？\n",
      "链接： http://funds.hexun.com/2020-09-02/201987439.html\n",
      "----------------------\n",
      "标题： 公募基金二季度新增349只重仓个股\n",
      "概要： 随着上市公司中报及基金中报披露完毕，公募基金二季度持仓也浮出水面。\n",
      "链接： http://funds.hexun.com/2020-09-01/201979609.html\n",
      "----------------------\n"
     ]
    }
   ],
   "source": [
    "print(\"各位领导、同事：上午好。以下是今日读报内容，请参阅。 \")\n",
    "nn = 0\n",
    "for l in linkdict.values():\n",
    "    url = l\n",
    "    resp = requests.get(url)\n",
    "    resp.raise_for_status()\n",
    "    resp.encoding = 'GBK'\n",
    "    page = BeautifulSoup(resp.text, \"html.parser\")\n",
    "    #print(page.prettify())\n",
    "    text = page.find_all(\"p\")\n",
    "    text\n",
    "    n = 1\n",
    "    print(\"标题：\",list(linkdict.keys())[nn])\n",
    "    nn += 1\n",
    "    for word in text:\n",
    "        \n",
    "        words = word.get_text()\n",
    "        \n",
    "        if len(words) >= 11:\n",
    "            #passage[\"1、\"][\"概要\"] = words\n",
    "            n += 1\n",
    "            if n > 2:\n",
    "                print(\"概要：\",words)\n",
    "                break\n",
    "    print(\"链接：\", l)        \n",
    "            \n",
    "    print(\"----------------------\")\n",
    "                \n"
   ]
  },
  {
   "cell_type": "code",
   "execution_count": null,
   "metadata": {},
   "outputs": [],
   "source": []
  },
  {
   "cell_type": "code",
   "execution_count": null,
   "metadata": {},
   "outputs": [],
   "source": []
  },
  {
   "cell_type": "code",
   "execution_count": null,
   "metadata": {},
   "outputs": [],
   "source": []
  },
  {
   "cell_type": "code",
   "execution_count": null,
   "metadata": {},
   "outputs": [],
   "source": []
  },
  {
   "cell_type": "code",
   "execution_count": null,
   "metadata": {},
   "outputs": [],
   "source": []
  },
  {
   "cell_type": "code",
   "execution_count": null,
   "metadata": {},
   "outputs": [],
   "source": []
  },
  {
   "cell_type": "code",
   "execution_count": null,
   "metadata": {},
   "outputs": [],
   "source": []
  },
  {
   "cell_type": "code",
   "execution_count": null,
   "metadata": {},
   "outputs": [],
   "source": []
  }
 ],
 "metadata": {
  "kernelspec": {
   "display_name": "Python 3",
   "language": "python",
   "name": "python3"
  },
  "language_info": {
   "codemirror_mode": {
    "name": "ipython",
    "version": 3
   },
   "file_extension": ".py",
   "mimetype": "text/x-python",
   "name": "python",
   "nbconvert_exporter": "python",
   "pygments_lexer": "ipython3",
   "version": "3.8.1"
  }
 },
 "nbformat": 4,
 "nbformat_minor": 4
}
